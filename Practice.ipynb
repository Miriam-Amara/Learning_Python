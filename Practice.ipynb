{
 "cells": [
  {
   "cell_type": "markdown",
   "id": "b8d9ca8b",
   "metadata": {},
   "source": [
    "File I/O"
   ]
  },
  {
   "cell_type": "code",
   "execution_count": null,
   "id": "3abc8c99",
   "metadata": {},
   "outputs": [],
   "source": [
    "#to create a form that brings out all questions for the user to the fill the answers and submit\n",
    "#e.g the user will see both what's your name and enter your password at the same time\n",
    "\n",
    "import threading\n",
    "\n",
    "def UserName():\n",
    "    return input(\"What's your name: \")\n",
    "def UserPass():\n",
    "    return input(\"Enter your password: \")\n",
    "\n",
    "Thread1 = threading.Thread(target=UserName)\n",
    "Thread2 = threading.Thread(target=UserPass)\n",
    "\n",
    "Thread1.start()\n",
    "Thread2.start()\n",
    "\n",
    "Thread1.join()\n",
    "Thread2.join()\n",
    "\n",
    "print(\"Successfully executed\")\n",
    "\n"
   ]
  },
  {
   "cell_type": "code",
   "execution_count": null,
   "id": "8347b508",
   "metadata": {},
   "outputs": [],
   "source": []
  },
  {
   "cell_type": "code",
   "execution_count": null,
   "id": "73b5a4f1",
   "metadata": {},
   "outputs": [],
   "source": []
  },
  {
   "cell_type": "code",
   "execution_count": null,
   "id": "022f568c",
   "metadata": {},
   "outputs": [],
   "source": []
  },
  {
   "cell_type": "code",
   "execution_count": null,
   "id": "f503b0f9",
   "metadata": {},
   "outputs": [],
   "source": []
  },
  {
   "cell_type": "code",
   "execution_count": 33,
   "id": "8befca8c",
   "metadata": {},
   "outputs": [
    {
     "name": "stdout",
     "output_type": "stream",
     "text": [
      "{'Firstname': 'Helen', 'Lastname': 'Mighty', 'School': 'Uniport'}\n",
      "{'Firstname': 'Clara', 'Lastname': 'stess', 'School': 'Unilorin'}\n",
      "{'Firstname': 'George', 'Lastname': 'Wilton', 'School': 'Unn'}\n",
      "{'Firstname': 'Kayamata', 'Lastname': 'Kayamata', 'School': 'Unilorin'}\n",
      "{'Firstname': 'Paul', 'Lastname': 'Helen', 'School': 'Abauni'}\n",
      "{'Firstname': 'Grace', 'Lastname': 'Kalu', 'School': 'Unibadan'}\n",
      "{'Firstname': 'James', 'Lastname': 'Kinsey', 'School': 'Auchi Poly'}\n",
      "{'Firstname': 'Kingsley', 'Lastname': 'Egbeonu', 'School': 'Unibadan'}\n"
     ]
    }
   ],
   "source": [
    "import os\n",
    "\n",
    "Filename = \"UsersData.csv\"\n",
    "def WriteData():\n",
    "    Fields = [\"Firstname\", \"Lastname\", \"School\"]\n",
    "    with open(Filename, 'a') as F:\n",
    "        if os.path.getsize(Filename) == 0:\n",
    "            F.write(','.join(Fields) + '\\n')\n",
    "        Fname = input(\"Enter your first name: \")\n",
    "        Lname = input(\"Enter your last name: \")\n",
    "        School = input(\"Enter the name of your school: \")\n",
    "        F.write(f\"{Fname},{Lname},{School}\\n\")\n",
    "        \n",
    "        return \"Success\"\n",
    "    \n",
    "    \n",
    "# def ReadData():\n",
    "#     with open(Filename, 'r') as File:\n",
    "#         for line in File:\n",
    "#             Row = line.rstrip().split(',')\n",
    "#             print(Row)\n",
    "            \n",
    "    \n",
    "    \n",
    "    \n",
    "def ReadData():\n",
    "    with open(Filename, 'r') as File:\n",
    "        RowData = {}\n",
    "        Line1 = File.readline()\n",
    "        Col = Line1.rstrip().split(',')\n",
    "        for line in File:\n",
    "            Row = line.rstrip().split(',')\n",
    "            RowData[Col[0]] = Row[0]\n",
    "            RowData[Col[1]] = Row[1]\n",
    "            RowData[Col[2]] = Row[2]\n",
    "            print(RowData)\n",
    "\n",
    "            \n",
    "#WriteData()\n",
    "#print(\"\\n\\n\\n\")\n",
    "ReadData()      \n",
    "\n"
   ]
  },
  {
   "cell_type": "code",
   "execution_count": null,
   "id": "77c6436a",
   "metadata": {},
   "outputs": [],
   "source": []
  },
  {
   "cell_type": "code",
   "execution_count": null,
   "id": "207d1130",
   "metadata": {},
   "outputs": [],
   "source": []
  },
  {
   "cell_type": "code",
   "execution_count": null,
   "id": "231aed73",
   "metadata": {},
   "outputs": [],
   "source": []
  },
  {
   "cell_type": "code",
   "execution_count": 1,
   "id": "ef45b3eb",
   "metadata": {},
   "outputs": [
    {
     "name": "stdout",
     "output_type": "stream",
     "text": [
      "['__call__', '__class__', '__delattr__', '__dir__', '__doc__', '__eq__', '__format__', '__ge__', '__getattribute__', '__getstate__', '__gt__', '__hash__', '__init__', '__init_subclass__', '__le__', '__lt__', '__module__', '__name__', '__ne__', '__new__', '__qualname__', '__reduce__', '__reduce_ex__', '__repr__', '__self__', '__setattr__', '__sizeof__', '__str__', '__subclasshook__', '__text_signature__']\n"
     ]
    }
   ],
   "source": [
    "print(dir(sum))"
   ]
  },
  {
   "cell_type": "code",
   "execution_count": 4,
   "id": "9eda6952",
   "metadata": {},
   "outputs": [
    {
     "name": "stdout",
     "output_type": "stream",
     "text": [
      "Help on built-in function sum in module builtins:\n",
      "\n",
      "sum(iterable, /, start=0)\n",
      "    Return the sum of a 'start' value (default: 0) plus an iterable of numbers\n",
      "    \n",
      "    When the iterable is empty, return the start value.\n",
      "    This function is intended specifically for use with numeric values and may\n",
      "    reject non-numeric types.\n",
      "\n",
      "None\n"
     ]
    }
   ],
   "source": [
    "print(help(sum))"
   ]
  },
  {
   "cell_type": "code",
   "execution_count": 5,
   "id": "52e595de",
   "metadata": {},
   "outputs": [
    {
     "name": "stdout",
     "output_type": "stream",
     "text": [
      "1\n"
     ]
    }
   ],
   "source": [
    "print(sum([-4, 3, 2]))"
   ]
  },
  {
   "cell_type": "code",
   "execution_count": 29,
   "id": "8f589c01",
   "metadata": {},
   "outputs": [],
   "source": [
    "counter = 1\n",
    "def update_counter():\n",
    "    global counter\n",
    "    counter += 1\n",
    "    return counter\n",
    "\n",
    "print(update_counter())"
   ]
  },
  {
   "cell_type": "code",
   "execution_count": null,
   "id": "6dae9d76",
   "metadata": {},
   "outputs": [],
   "source": []
  },
  {
   "cell_type": "code",
   "execution_count": 30,
   "id": "c373b007",
   "metadata": {},
   "outputs": [],
   "source": [
    "counter = 0\n",
    "dot_counter = ''\n",
    "def update_counter():\n",
    "    global counter\n",
    "    global dot_counter\n",
    "    for i in range(40):\n",
    "        counter += 1\n",
    "        dot_counter += '.'\n",
    "    print(counter)\n",
    "    print(dot_counter)\n",
    "    \n",
    "update_counter()\n",
    "# n = 40\n",
    "# while n > 0:\n",
    "#     update_counter()\n",
    "#     n -= 1\n",
    "    "
   ]
  },
  {
   "cell_type": "code",
   "execution_count": null,
   "id": "1e30f0cc",
   "metadata": {},
   "outputs": [],
   "source": []
  },
  {
   "cell_type": "code",
   "execution_count": null,
   "id": "2a7c876c",
   "metadata": {},
   "outputs": [],
   "source": []
  },
  {
   "cell_type": "markdown",
   "id": "0d302039",
   "metadata": {},
   "source": [
    "Question 5 (from 75 Python Object Oriented programming exercises)"
   ]
  },
  {
   "cell_type": "code",
   "execution_count": 55,
   "id": "e659f90d",
   "metadata": {},
   "outputs": [
    {
     "name": "stdout",
     "output_type": "stream",
     "text": [
      "110\n",
      "..........\n"
     ]
    }
   ],
   "source": [
    "#correct the implementation of the function\n",
    "\n",
    "# def display_info(number_of_updates = 1):\n",
    "#     counter = 100\n",
    "#     dot_counter = ''\n",
    "#     def update_counter():\n",
    "#     counter += 1\n",
    "#     dot_counter += '.'\n",
    "#     [update_counter() for _ in range(number_of_updates)]\n",
    "#     print(counter)\n",
    "#     print(dot_counter)\n",
    "    \n",
    "    \n",
    "    \n",
    "def display_info(number_of_updates = 1):\n",
    "    counter = 100\n",
    "    dot_counter = ''\n",
    "    def update_counter():\n",
    "        nonlocal counter, dot_counter\n",
    "        counter += 1\n",
    "        dot_counter += '.'\n",
    "    [update_counter() for _ in range(number_of_updates)] \n",
    "    print(counter)\n",
    "    print(dot_counter)\n",
    "    \n",
    "display_info(10)"
   ]
  },
  {
   "cell_type": "code",
   "execution_count": null,
   "id": "34f04037",
   "metadata": {},
   "outputs": [],
   "source": []
  },
  {
   "cell_type": "code",
   "execution_count": null,
   "id": "c239525b",
   "metadata": {},
   "outputs": [],
   "source": []
  },
  {
   "cell_type": "markdown",
   "id": "1c508abc",
   "metadata": {},
   "source": [
    "Question 6 (from 75 Python Object Oriented programming exercises)"
   ]
  },
  {
   "cell_type": "code",
   "execution_count": 80,
   "id": "35304763",
   "metadata": {},
   "outputs": [
    {
     "name": "stdout",
     "output_type": "stream",
     "text": [
      "['MAXYEAR', 'MINYEAR', 'UTC', '__all__', '__builtins__', '__cached__', '__doc__', '__file__', '__loader__', '__name__', '__package__', '__spec__', 'date', 'datetime', 'datetime_CAPI', 'sys', 'time', 'timedelta', 'timezone', 'tzinfo']\n"
     ]
    }
   ],
   "source": [
    "import datetime\n",
    "# namespace = datetime.__dict__\n",
    "# for key, value in namespace.items():\n",
    "#     print(f\"{key}\\n{value}\\n\")\n",
    "\n",
    "namespace = datetime.__dict__.keys()\n",
    "print(sorted(namespace))"
   ]
  },
  {
   "cell_type": "code",
   "execution_count": 77,
   "id": "de227be5",
   "metadata": {},
   "outputs": [
    {
     "data": {
      "text/plain": [
       "['MAXYEAR',\n",
       " 'MINYEAR',\n",
       " 'UTC',\n",
       " '__all__',\n",
       " '__builtins__',\n",
       " '__cached__',\n",
       " '__doc__',\n",
       " '__file__',\n",
       " '__loader__',\n",
       " '__name__',\n",
       " '__package__',\n",
       " '__spec__',\n",
       " 'date',\n",
       " 'datetime',\n",
       " 'datetime_CAPI',\n",
       " 'sys',\n",
       " 'time',\n",
       " 'timedelta',\n",
       " 'timezone',\n",
       " 'tzinfo']"
      ]
     },
     "execution_count": 77,
     "metadata": {},
     "output_type": "execute_result"
    }
   ],
   "source": [
    "import datetime\n",
    "dir(datetime)"
   ]
  },
  {
   "cell_type": "code",
   "execution_count": 81,
   "id": "7ce4b290",
   "metadata": {},
   "outputs": [
    {
     "name": "stdout",
     "output_type": "stream",
     "text": [
      "MAXYEAR\n",
      "MINYEAR\n",
      "UTC\n",
      "__all__\n",
      "__builtins__\n",
      "__cached__\n",
      "__doc__\n",
      "__file__\n",
      "__loader__\n",
      "__name__\n",
      "__package__\n",
      "__spec__\n",
      "date\n",
      "datetime\n",
      "datetime_CAPI\n",
      "sys\n",
      "time\n",
      "timedelta\n",
      "timezone\n",
      "tzinfo\n"
     ]
    }
   ],
   "source": [
    "import datetime\n",
    "for name in sorted(datetime.__dict__):\n",
    "    print(name)"
   ]
  },
  {
   "cell_type": "code",
   "execution_count": 82,
   "id": "0cb73b30",
   "metadata": {},
   "outputs": [
    {
     "name": "stdout",
     "output_type": "stream",
     "text": [
      "1\n",
      "2\n",
      "3\n"
     ]
    }
   ],
   "source": [
    "dict1 = {1: \"school\", 2: \"class\", 3: \"student\"}\n",
    "for name in dict1:\n",
    "    print(name)"
   ]
  },
  {
   "cell_type": "code",
   "execution_count": null,
   "id": "51a5a445",
   "metadata": {},
   "outputs": [],
   "source": []
  },
  {
   "cell_type": "code",
   "execution_count": null,
   "id": "70d75296",
   "metadata": {},
   "outputs": [],
   "source": []
  },
  {
   "cell_type": "markdown",
   "id": "5c727278",
   "metadata": {},
   "source": [
    "Question 7 (from 75 Python Object Oriented programming exercises)"
   ]
  },
  {
   "cell_type": "code",
   "execution_count": 97,
   "id": "1b37ac53",
   "metadata": {},
   "outputs": [],
   "source": [
    "import uuid\n",
    "class Product:\n",
    "    def __init__(self, product_name, price):\n",
    "        self.product_id = self.get_id()\n",
    "        self.product_name = product_name\n",
    "        self.price = price\n",
    "    def __repr__(self):\n",
    "        return f\"Product(product_name = '{self.product_name}', price = {self.price})\"\n",
    "    @staticmethod\n",
    "    def get_id():\n",
    "        return str(uuid.uuid4().fields[-1])[:6]\n"
   ]
  },
  {
   "cell_type": "code",
   "execution_count": null,
   "id": "a73e97bc",
   "metadata": {},
   "outputs": [],
   "source": []
  },
  {
   "cell_type": "code",
   "execution_count": 106,
   "id": "8d48596b",
   "metadata": {},
   "outputs": [
    {
     "name": "stdout",
     "output_type": "stream",
     "text": [
      "__dict__\n",
      "__doc__\n",
      "__init__\n",
      "__module__\n",
      "__repr__\n",
      "__weakref__\n",
      "get_id\n"
     ]
    },
    {
     "data": {
      "text/plain": [
       "['Product',\n",
       " '__builtins__',\n",
       " '__cached__',\n",
       " '__doc__',\n",
       " '__file__',\n",
       " '__loader__',\n",
       " '__name__',\n",
       " '__package__',\n",
       " '__spec__',\n",
       " 'uuid']"
      ]
     },
     "execution_count": 106,
     "metadata": {},
     "output_type": "execute_result"
    }
   ],
   "source": [
    "# getting the attributes of a class in a module\n",
    "\n",
    "import product\n",
    "for name in sorted(Product.__dict__):\n",
    "    print(name)\n",
    "    \n",
    "dir(product)"
   ]
  },
  {
   "cell_type": "code",
   "execution_count": null,
   "id": "31ed2ac8",
   "metadata": {},
   "outputs": [],
   "source": [
    "!"
   ]
  },
  {
   "cell_type": "code",
   "execution_count": 87,
   "id": "0b83c7b5",
   "metadata": {},
   "outputs": [
    {
     "name": "stdout",
     "output_type": "stream",
     "text": [
      "Help on module uuid:\n",
      "\n",
      "NAME\n",
      "    uuid - UUID objects (universally unique identifiers) according to RFC 4122.\n",
      "\n",
      "MODULE REFERENCE\n",
      "    https://docs.python.org/3.11/library/uuid.html\n",
      "    \n",
      "    The following documentation is automatically generated from the Python\n",
      "    source files.  It may be incomplete, incorrect or include features that\n",
      "    are considered implementation detail and may vary between Python\n",
      "    implementations.  When in doubt, consult the module reference at the\n",
      "    location listed above.\n",
      "\n",
      "DESCRIPTION\n",
      "    This module provides immutable UUID objects (class UUID) and the functions\n",
      "    uuid1(), uuid3(), uuid4(), uuid5() for generating version 1, 3, 4, and 5\n",
      "    UUIDs as specified in RFC 4122.\n",
      "    \n",
      "    If all you want is a unique ID, you should probably call uuid1() or uuid4().\n",
      "    Note that uuid1() may compromise privacy since it creates a UUID containing\n",
      "    the computer's network address.  uuid4() creates a random UUID.\n",
      "    \n",
      "    Typical usage:\n",
      "    \n",
      "        >>> import uuid\n",
      "    \n",
      "        # make a UUID based on the host ID and current time\n",
      "        >>> uuid.uuid1()    # doctest: +SKIP\n",
      "        UUID('a8098c1a-f86e-11da-bd1a-00112444be1e')\n",
      "    \n",
      "        # make a UUID using an MD5 hash of a namespace UUID and a name\n",
      "        >>> uuid.uuid3(uuid.NAMESPACE_DNS, 'python.org')\n",
      "        UUID('6fa459ea-ee8a-3ca4-894e-db77e160355e')\n",
      "    \n",
      "        # make a random UUID\n",
      "        >>> uuid.uuid4()    # doctest: +SKIP\n",
      "        UUID('16fd2706-8baf-433b-82eb-8c7fada847da')\n",
      "    \n",
      "        # make a UUID using a SHA-1 hash of a namespace UUID and a name\n",
      "        >>> uuid.uuid5(uuid.NAMESPACE_DNS, 'python.org')\n",
      "        UUID('886313e1-3b8a-5372-9b90-0c9aee199e5d')\n",
      "    \n",
      "        # make a UUID from a string of hex digits (braces and hyphens ignored)\n",
      "        >>> x = uuid.UUID('{00010203-0405-0607-0809-0a0b0c0d0e0f}')\n",
      "    \n",
      "        # convert a UUID to a string of hex digits in standard form\n",
      "        >>> str(x)\n",
      "        '00010203-0405-0607-0809-0a0b0c0d0e0f'\n",
      "    \n",
      "        # get the raw 16 bytes of the UUID\n",
      "        >>> x.bytes\n",
      "        b'\\x00\\x01\\x02\\x03\\x04\\x05\\x06\\x07\\x08\\t\\n\\x0b\\x0c\\r\\x0e\\x0f'\n",
      "    \n",
      "        # make a UUID from a 16-byte string\n",
      "        >>> uuid.UUID(bytes=x.bytes)\n",
      "        UUID('00010203-0405-0607-0809-0a0b0c0d0e0f')\n",
      "\n",
      "CLASSES\n",
      "    builtins.object\n",
      "        UUID\n",
      "    enum.Enum(builtins.object)\n",
      "        SafeUUID\n",
      "    \n",
      "    class SafeUUID(enum.Enum)\n",
      "     |  SafeUUID(value, names=None, *, module=None, qualname=None, type=None, start=1, boundary=None)\n",
      "     |  \n",
      "     |  An enumeration.\n",
      "     |  \n",
      "     |  Method resolution order:\n",
      "     |      SafeUUID\n",
      "     |      enum.Enum\n",
      "     |      builtins.object\n",
      "     |  \n",
      "     |  Data and other attributes defined here:\n",
      "     |  \n",
      "     |  safe = <SafeUUID.safe: 0>\n",
      "     |  \n",
      "     |  unknown = <SafeUUID.unknown: None>\n",
      "     |  \n",
      "     |  unsafe = <SafeUUID.unsafe: -1>\n",
      "     |  \n",
      "     |  ----------------------------------------------------------------------\n",
      "     |  Data descriptors inherited from enum.Enum:\n",
      "     |  \n",
      "     |  name\n",
      "     |      The name of the Enum member.\n",
      "     |  \n",
      "     |  value\n",
      "     |      The value of the Enum member.\n",
      "     |  \n",
      "     |  ----------------------------------------------------------------------\n",
      "     |  Methods inherited from enum.EnumType:\n",
      "     |  \n",
      "     |  __contains__(member) from enum.EnumType\n",
      "     |      Return True if member is a member of this enum\n",
      "     |      raises TypeError if member is not an enum member\n",
      "     |      \n",
      "     |      note: in 3.12 TypeError will no longer be raised, and True will also be\n",
      "     |      returned if member is the value of a member in this enum\n",
      "     |  \n",
      "     |  __getitem__(name) from enum.EnumType\n",
      "     |      Return the member matching `name`.\n",
      "     |  \n",
      "     |  __iter__() from enum.EnumType\n",
      "     |      Return members in definition order.\n",
      "     |  \n",
      "     |  __len__() from enum.EnumType\n",
      "     |      Return the number of members (no aliases)\n",
      "     |  \n",
      "     |  ----------------------------------------------------------------------\n",
      "     |  Readonly properties inherited from enum.EnumType:\n",
      "     |  \n",
      "     |  __members__\n",
      "     |      Returns a mapping of member name->value.\n",
      "     |      \n",
      "     |      This mapping lists all enum members, including aliases. Note that this\n",
      "     |      is a read-only view of the internal mapping.\n",
      "    \n",
      "    class UUID(builtins.object)\n",
      "     |  UUID(hex=None, bytes=None, bytes_le=None, fields=None, int=None, version=None, *, is_safe=<SafeUUID.unknown: None>)\n",
      "     |  \n",
      "     |  Instances of the UUID class represent UUIDs as specified in RFC 4122.\n",
      "     |  UUID objects are immutable, hashable, and usable as dictionary keys.\n",
      "     |  Converting a UUID to a string with str() yields something in the form\n",
      "     |  '12345678-1234-1234-1234-123456789abc'.  The UUID constructor accepts\n",
      "     |  five possible forms: a similar string of hexadecimal digits, or a tuple\n",
      "     |  of six integer fields (with 32-bit, 16-bit, 16-bit, 8-bit, 8-bit, and\n",
      "     |  48-bit values respectively) as an argument named 'fields', or a string\n",
      "     |  of 16 bytes (with all the integer fields in big-endian order) as an\n",
      "     |  argument named 'bytes', or a string of 16 bytes (with the first three\n",
      "     |  fields in little-endian order) as an argument named 'bytes_le', or a\n",
      "     |  single 128-bit integer as an argument named 'int'.\n",
      "     |  \n",
      "     |  UUIDs have these read-only attributes:\n",
      "     |  \n",
      "     |      bytes       the UUID as a 16-byte string (containing the six\n",
      "     |                  integer fields in big-endian byte order)\n",
      "     |  \n",
      "     |      bytes_le    the UUID as a 16-byte string (with time_low, time_mid,\n",
      "     |                  and time_hi_version in little-endian byte order)\n",
      "     |  \n",
      "     |      fields      a tuple of the six integer fields of the UUID,\n",
      "     |                  which are also available as six individual attributes\n",
      "     |                  and two derived attributes:\n",
      "     |  \n",
      "     |          time_low                the first 32 bits of the UUID\n",
      "     |          time_mid                the next 16 bits of the UUID\n",
      "     |          time_hi_version         the next 16 bits of the UUID\n",
      "     |          clock_seq_hi_variant    the next 8 bits of the UUID\n",
      "     |          clock_seq_low           the next 8 bits of the UUID\n",
      "     |          node                    the last 48 bits of the UUID\n",
      "     |  \n",
      "     |          time                    the 60-bit timestamp\n",
      "     |          clock_seq               the 14-bit sequence number\n",
      "     |  \n",
      "     |      hex         the UUID as a 32-character hexadecimal string\n",
      "     |  \n",
      "     |      int         the UUID as a 128-bit integer\n",
      "     |  \n",
      "     |      urn         the UUID as a URN as specified in RFC 4122\n",
      "     |  \n",
      "     |      variant     the UUID variant (one of the constants RESERVED_NCS,\n",
      "     |                  RFC_4122, RESERVED_MICROSOFT, or RESERVED_FUTURE)\n",
      "     |  \n",
      "     |      version     the UUID version number (1 through 5, meaningful only\n",
      "     |                  when the variant is RFC_4122)\n",
      "     |  \n",
      "     |      is_safe     An enum indicating whether the UUID has been generated in\n",
      "     |                  a way that is safe for multiprocessing applications, via\n",
      "     |                  uuid_generate_time_safe(3).\n",
      "     |  \n",
      "     |  Methods defined here:\n",
      "     |  \n",
      "     |  __eq__(self, other)\n",
      "     |      Return self==value.\n",
      "     |  \n",
      "     |  __ge__(self, other)\n",
      "     |      Return self>=value.\n",
      "     |  \n",
      "     |  __getstate__(self)\n",
      "     |      Helper for pickle.\n",
      "     |  \n",
      "     |  __gt__(self, other)\n",
      "     |      Return self>value.\n",
      "     |  \n",
      "     |  __hash__(self)\n",
      "     |      Return hash(self).\n",
      "     |  \n",
      "     |  __init__(self, hex=None, bytes=None, bytes_le=None, fields=None, int=None, version=None, *, is_safe=<SafeUUID.unknown: None>)\n",
      "     |      Create a UUID from either a string of 32 hexadecimal digits,\n",
      "     |      a string of 16 bytes as the 'bytes' argument, a string of 16 bytes\n",
      "     |      in little-endian order as the 'bytes_le' argument, a tuple of six\n",
      "     |      integers (32-bit time_low, 16-bit time_mid, 16-bit time_hi_version,\n",
      "     |      8-bit clock_seq_hi_variant, 8-bit clock_seq_low, 48-bit node) as\n",
      "     |      the 'fields' argument, or a single 128-bit integer as the 'int'\n",
      "     |      argument.  When a string of hex digits is given, curly braces,\n",
      "     |      hyphens, and a URN prefix are all optional.  For example, these\n",
      "     |      expressions all yield the same UUID:\n",
      "     |      \n",
      "     |      UUID('{12345678-1234-5678-1234-567812345678}')\n",
      "     |      UUID('12345678123456781234567812345678')\n",
      "     |      UUID('urn:uuid:12345678-1234-5678-1234-567812345678')\n",
      "     |      UUID(bytes='\\x12\\x34\\x56\\x78'*4)\n",
      "     |      UUID(bytes_le='\\x78\\x56\\x34\\x12\\x34\\x12\\x78\\x56' +\n",
      "     |                    '\\x12\\x34\\x56\\x78\\x12\\x34\\x56\\x78')\n",
      "     |      UUID(fields=(0x12345678, 0x1234, 0x5678, 0x12, 0x34, 0x567812345678))\n",
      "     |      UUID(int=0x12345678123456781234567812345678)\n",
      "     |      \n",
      "     |      Exactly one of 'hex', 'bytes', 'bytes_le', 'fields', or 'int' must\n",
      "     |      be given.  The 'version' argument is optional; if given, the resulting\n",
      "     |      UUID will have its variant and version set according to RFC 4122,\n",
      "     |      overriding the given 'hex', 'bytes', 'bytes_le', 'fields', or 'int'.\n",
      "     |      \n",
      "     |      is_safe is an enum exposed as an attribute on the instance.  It\n",
      "     |      indicates whether the UUID has been generated in a way that is safe\n",
      "     |      for multiprocessing applications, via uuid_generate_time_safe(3).\n",
      "     |  \n",
      "     |  __int__(self)\n",
      "     |  \n",
      "     |  __le__(self, other)\n",
      "     |      Return self<=value.\n",
      "     |  \n",
      "     |  __lt__(self, other)\n",
      "     |      Return self<value.\n",
      "     |  \n",
      "     |  __repr__(self)\n",
      "     |      Return repr(self).\n",
      "     |  \n",
      "     |  __setattr__(self, name, value)\n",
      "     |      Implement setattr(self, name, value).\n",
      "     |  \n",
      "     |  __setstate__(self, state)\n",
      "     |  \n",
      "     |  __str__(self)\n",
      "     |      Return str(self).\n",
      "     |  \n",
      "     |  ----------------------------------------------------------------------\n",
      "     |  Readonly properties defined here:\n",
      "     |  \n",
      "     |  bytes\n",
      "     |  \n",
      "     |  bytes_le\n",
      "     |  \n",
      "     |  clock_seq\n",
      "     |  \n",
      "     |  clock_seq_hi_variant\n",
      "     |  \n",
      "     |  clock_seq_low\n",
      "     |  \n",
      "     |  fields\n",
      "     |  \n",
      "     |  hex\n",
      "     |  \n",
      "     |  node\n",
      "     |  \n",
      "     |  time\n",
      "     |  \n",
      "     |  time_hi_version\n",
      "     |  \n",
      "     |  time_low\n",
      "     |  \n",
      "     |  time_mid\n",
      "     |  \n",
      "     |  urn\n",
      "     |  \n",
      "     |  variant\n",
      "     |  \n",
      "     |  version\n",
      "     |  \n",
      "     |  ----------------------------------------------------------------------\n",
      "     |  Data descriptors defined here:\n",
      "     |  \n",
      "     |  __weakref__\n",
      "     |      list of weak references to the object (if defined)\n",
      "     |  \n",
      "     |  int\n",
      "     |  \n",
      "     |  is_safe\n",
      "\n",
      "FUNCTIONS\n",
      "    getnode()\n",
      "        Get the hardware address as a 48-bit positive integer.\n",
      "        \n",
      "        The first time this runs, it may launch a separate program, which could\n",
      "        be quite slow.  If all attempts to obtain the hardware address fail, we\n",
      "        choose a random 48-bit number with its eighth bit set to 1 as recommended\n",
      "        in RFC 4122.\n",
      "    \n",
      "    uuid1(node=None, clock_seq=None)\n",
      "        Generate a UUID from a host ID, sequence number, and the current time.\n",
      "        If 'node' is not given, getnode() is used to obtain the hardware\n",
      "        address.  If 'clock_seq' is given, it is used as the sequence number;\n",
      "        otherwise a random 14-bit sequence number is chosen.\n",
      "    \n",
      "    uuid3(namespace, name)\n",
      "        Generate a UUID from the MD5 hash of a namespace UUID and a name.\n",
      "    \n",
      "    uuid4()\n",
      "        Generate a random UUID.\n",
      "    \n",
      "    uuid5(namespace, name)\n",
      "        Generate a UUID from the SHA-1 hash of a namespace UUID and a name.\n",
      "\n",
      "DATA\n",
      "    NAMESPACE_DNS = UUID('6ba7b810-9dad-11d1-80b4-00c04fd430c8')\n",
      "    NAMESPACE_OID = UUID('6ba7b812-9dad-11d1-80b4-00c04fd430c8')\n",
      "    NAMESPACE_URL = UUID('6ba7b811-9dad-11d1-80b4-00c04fd430c8')\n",
      "    NAMESPACE_X500 = UUID('6ba7b814-9dad-11d1-80b4-00c04fd430c8')\n",
      "    RESERVED_FUTURE = 'reserved for future definition'\n",
      "    RESERVED_MICROSOFT = 'reserved for Microsoft compatibility'\n",
      "    RESERVED_NCS = 'reserved for NCS compatibility'\n",
      "    RFC_4122 = 'specified in RFC 4122'\n",
      "\n",
      "AUTHOR\n",
      "    Ka-Ping Yee <ping@zesty.ca>\n",
      "\n",
      "FILE\n",
      "    c:\\users\\precision\\anaconda3\\lib\\uuid.py\n",
      "\n",
      "\n"
     ]
    }
   ],
   "source": [
    "import uuid\n",
    "help(uuid)"
   ]
  },
  {
   "cell_type": "code",
   "execution_count": 95,
   "id": "acbb3710",
   "metadata": {},
   "outputs": [
    {
     "name": "stdout",
     "output_type": "stream",
     "text": [
      "3765\n"
     ]
    }
   ],
   "source": [
    "import uuid\n",
    "uid = uuid.uuid4()\n",
    "print(str(int(uid))[4:8])"
   ]
  },
  {
   "cell_type": "code",
   "execution_count": null,
   "id": "67507449",
   "metadata": {},
   "outputs": [],
   "source": []
  },
  {
   "cell_type": "code",
   "execution_count": null,
   "id": "4d7c6036",
   "metadata": {},
   "outputs": [],
   "source": []
  },
  {
   "cell_type": "code",
   "execution_count": null,
   "id": "5f0204f6",
   "metadata": {},
   "outputs": [],
   "source": []
  },
  {
   "cell_type": "code",
   "execution_count": null,
   "id": "c47e2fc0",
   "metadata": {},
   "outputs": [],
   "source": []
  },
  {
   "cell_type": "code",
   "execution_count": null,
   "id": "662187fc",
   "metadata": {},
   "outputs": [],
   "source": []
  },
  {
   "cell_type": "code",
   "execution_count": null,
   "id": "44257f0b",
   "metadata": {},
   "outputs": [],
   "source": []
  },
  {
   "cell_type": "code",
   "execution_count": null,
   "id": "c5745c98",
   "metadata": {},
   "outputs": [],
   "source": []
  },
  {
   "cell_type": "code",
   "execution_count": null,
   "id": "cb62d51f",
   "metadata": {},
   "outputs": [],
   "source": []
  },
  {
   "cell_type": "code",
   "execution_count": null,
   "id": "6cd31f2a",
   "metadata": {},
   "outputs": [],
   "source": []
  },
  {
   "cell_type": "code",
   "execution_count": null,
   "id": "202f8817",
   "metadata": {},
   "outputs": [],
   "source": []
  },
  {
   "cell_type": "code",
   "execution_count": null,
   "id": "5b453062",
   "metadata": {},
   "outputs": [],
   "source": []
  },
  {
   "cell_type": "code",
   "execution_count": null,
   "id": "a7ad16c0",
   "metadata": {},
   "outputs": [],
   "source": []
  },
  {
   "cell_type": "code",
   "execution_count": null,
   "id": "a4744f59",
   "metadata": {},
   "outputs": [],
   "source": []
  },
  {
   "cell_type": "code",
   "execution_count": null,
   "id": "07a5b52b",
   "metadata": {},
   "outputs": [],
   "source": []
  },
  {
   "cell_type": "code",
   "execution_count": null,
   "id": "b42daa1b",
   "metadata": {},
   "outputs": [],
   "source": []
  },
  {
   "cell_type": "code",
   "execution_count": null,
   "id": "4df0255e",
   "metadata": {},
   "outputs": [],
   "source": []
  },
  {
   "cell_type": "code",
   "execution_count": null,
   "id": "3cb0ef9b",
   "metadata": {},
   "outputs": [],
   "source": []
  },
  {
   "cell_type": "code",
   "execution_count": null,
   "id": "40dcd7f5",
   "metadata": {},
   "outputs": [],
   "source": []
  },
  {
   "cell_type": "code",
   "execution_count": null,
   "id": "fc0f2bcb",
   "metadata": {},
   "outputs": [],
   "source": []
  },
  {
   "cell_type": "code",
   "execution_count": null,
   "id": "7572b916",
   "metadata": {},
   "outputs": [],
   "source": []
  },
  {
   "cell_type": "code",
   "execution_count": null,
   "id": "8c554764",
   "metadata": {},
   "outputs": [],
   "source": []
  },
  {
   "cell_type": "code",
   "execution_count": null,
   "id": "1177daae",
   "metadata": {},
   "outputs": [],
   "source": []
  },
  {
   "cell_type": "code",
   "execution_count": null,
   "id": "69404f82",
   "metadata": {},
   "outputs": [],
   "source": []
  },
  {
   "cell_type": "code",
   "execution_count": null,
   "id": "852cd519",
   "metadata": {},
   "outputs": [],
   "source": []
  },
  {
   "cell_type": "code",
   "execution_count": null,
   "id": "e4bb4ce1",
   "metadata": {},
   "outputs": [],
   "source": []
  },
  {
   "cell_type": "code",
   "execution_count": null,
   "id": "e3d282aa",
   "metadata": {},
   "outputs": [],
   "source": []
  },
  {
   "cell_type": "code",
   "execution_count": null,
   "id": "40ea815a",
   "metadata": {},
   "outputs": [],
   "source": []
  },
  {
   "cell_type": "code",
   "execution_count": null,
   "id": "3a98c519",
   "metadata": {},
   "outputs": [],
   "source": []
  },
  {
   "cell_type": "code",
   "execution_count": null,
   "id": "7df1b35e",
   "metadata": {},
   "outputs": [],
   "source": []
  },
  {
   "cell_type": "code",
   "execution_count": null,
   "id": "77959634",
   "metadata": {},
   "outputs": [],
   "source": []
  },
  {
   "cell_type": "code",
   "execution_count": null,
   "id": "b04dd1db",
   "metadata": {},
   "outputs": [],
   "source": []
  },
  {
   "cell_type": "code",
   "execution_count": null,
   "id": "96d985f8",
   "metadata": {},
   "outputs": [],
   "source": []
  },
  {
   "cell_type": "code",
   "execution_count": null,
   "id": "aa572d9c",
   "metadata": {},
   "outputs": [],
   "source": []
  },
  {
   "cell_type": "code",
   "execution_count": null,
   "id": "8f905ad3",
   "metadata": {},
   "outputs": [],
   "source": []
  },
  {
   "cell_type": "code",
   "execution_count": null,
   "id": "61bede1b",
   "metadata": {},
   "outputs": [],
   "source": []
  },
  {
   "cell_type": "code",
   "execution_count": null,
   "id": "49fbc11c",
   "metadata": {},
   "outputs": [],
   "source": []
  }
 ],
 "metadata": {
  "kernelspec": {
   "display_name": "Python 3 (ipykernel)",
   "language": "python",
   "name": "python3"
  },
  "language_info": {
   "codemirror_mode": {
    "name": "ipython",
    "version": 3
   },
   "file_extension": ".py",
   "mimetype": "text/x-python",
   "name": "python",
   "nbconvert_exporter": "python",
   "pygments_lexer": "ipython3",
   "version": "3.11.5"
  }
 },
 "nbformat": 4,
 "nbformat_minor": 5
}
