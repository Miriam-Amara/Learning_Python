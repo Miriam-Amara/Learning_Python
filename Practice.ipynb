{
 "cells": [
  {
   "cell_type": "markdown",
   "id": "b8d9ca8b",
   "metadata": {},
   "source": [
    "File I/O"
   ]
  },
  {
   "cell_type": "code",
   "execution_count": null,
   "id": "3abc8c99",
   "metadata": {},
   "outputs": [],
   "source": [
    "#to create a form that brings out all questions for the user to the fill the answers and submit\n",
    "#e.g the user will see both what's your name and enter your password at the same time\n",
    "\n",
    "import threading\n",
    "\n",
    "def UserName():\n",
    "    return input(\"What's your name: \")\n",
    "def UserPass():\n",
    "    return input(\"Enter your password: \")\n",
    "\n",
    "Thread1 = threading.Thread(target=UserName)\n",
    "Thread2 = threading.Thread(target=UserPass)\n",
    "\n",
    "Thread1.start()\n",
    "Thread2.start()\n",
    "\n",
    "Thread1.join()\n",
    "Thread2.join()\n",
    "\n",
    "print(\"Successfully executed\")\n",
    "\n"
   ]
  },
  {
   "cell_type": "code",
   "execution_count": null,
   "id": "8347b508",
   "metadata": {},
   "outputs": [],
   "source": []
  },
  {
   "cell_type": "code",
   "execution_count": null,
   "id": "73b5a4f1",
   "metadata": {},
   "outputs": [],
   "source": []
  },
  {
   "cell_type": "code",
   "execution_count": null,
   "id": "022f568c",
   "metadata": {},
   "outputs": [],
   "source": []
  },
  {
   "cell_type": "code",
   "execution_count": null,
   "id": "f503b0f9",
   "metadata": {},
   "outputs": [],
   "source": []
  },
  {
   "cell_type": "code",
   "execution_count": 33,
   "id": "8befca8c",
   "metadata": {},
   "outputs": [
    {
     "name": "stdout",
     "output_type": "stream",
     "text": [
      "{'Firstname': 'Helen', 'Lastname': 'Mighty', 'School': 'Uniport'}\n",
      "{'Firstname': 'Clara', 'Lastname': 'stess', 'School': 'Unilorin'}\n",
      "{'Firstname': 'George', 'Lastname': 'Wilton', 'School': 'Unn'}\n",
      "{'Firstname': 'Kayamata', 'Lastname': 'Kayamata', 'School': 'Unilorin'}\n",
      "{'Firstname': 'Paul', 'Lastname': 'Helen', 'School': 'Abauni'}\n",
      "{'Firstname': 'Grace', 'Lastname': 'Kalu', 'School': 'Unibadan'}\n",
      "{'Firstname': 'James', 'Lastname': 'Kinsey', 'School': 'Auchi Poly'}\n",
      "{'Firstname': 'Kingsley', 'Lastname': 'Egbeonu', 'School': 'Unibadan'}\n"
     ]
    }
   ],
   "source": [
    "import os\n",
    "\n",
    "Filename = \"UsersData.csv\"\n",
    "def WriteData():\n",
    "    Fields = [\"Firstname\", \"Lastname\", \"School\"]\n",
    "    with open(Filename, 'a') as F:\n",
    "        if os.path.getsize(Filename) == 0:\n",
    "            F.write(','.join(Fields) + '\\n')\n",
    "        Fname = input(\"Enter your first name: \")\n",
    "        Lname = input(\"Enter your last name: \")\n",
    "        School = input(\"Enter the name of your school: \")\n",
    "        F.write(f\"{Fname},{Lname},{School}\\n\")\n",
    "        \n",
    "        return \"Success\"\n",
    "    \n",
    "    \n",
    "# def ReadData():\n",
    "#     with open(Filename, 'r') as File:\n",
    "#         for line in File:\n",
    "#             Row = line.rstrip().split(',')\n",
    "#             print(Row)\n",
    "            \n",
    "    \n",
    "    \n",
    "    \n",
    "def ReadData():\n",
    "    with open(Filename, 'r') as File:\n",
    "        RowData = {}\n",
    "        Line1 = File.readline()\n",
    "        Col = Line1.rstrip().split(',')\n",
    "        for line in File:\n",
    "            Row = line.rstrip().split(',')\n",
    "            RowData[Col[0]] = Row[0]\n",
    "            RowData[Col[1]] = Row[1]\n",
    "            RowData[Col[2]] = Row[2]\n",
    "            print(RowData)\n",
    "\n",
    "            \n",
    "#WriteData()\n",
    "#print(\"\\n\\n\\n\")\n",
    "ReadData()      \n",
    "\n"
   ]
  },
  {
   "cell_type": "code",
   "execution_count": null,
   "id": "77c6436a",
   "metadata": {},
   "outputs": [],
   "source": []
  },
  {
   "cell_type": "code",
   "execution_count": null,
   "id": "207d1130",
   "metadata": {},
   "outputs": [],
   "source": []
  },
  {
   "cell_type": "code",
   "execution_count": null,
   "id": "231aed73",
   "metadata": {},
   "outputs": [],
   "source": []
  },
  {
   "cell_type": "code",
   "execution_count": 1,
   "id": "ef45b3eb",
   "metadata": {},
   "outputs": [
    {
     "name": "stdout",
     "output_type": "stream",
     "text": [
      "['__call__', '__class__', '__delattr__', '__dir__', '__doc__', '__eq__', '__format__', '__ge__', '__getattribute__', '__getstate__', '__gt__', '__hash__', '__init__', '__init_subclass__', '__le__', '__lt__', '__module__', '__name__', '__ne__', '__new__', '__qualname__', '__reduce__', '__reduce_ex__', '__repr__', '__self__', '__setattr__', '__sizeof__', '__str__', '__subclasshook__', '__text_signature__']\n"
     ]
    }
   ],
   "source": [
    "print(dir(sum))"
   ]
  },
  {
   "cell_type": "code",
   "execution_count": 4,
   "id": "9eda6952",
   "metadata": {},
   "outputs": [
    {
     "name": "stdout",
     "output_type": "stream",
     "text": [
      "Help on built-in function sum in module builtins:\n",
      "\n",
      "sum(iterable, /, start=0)\n",
      "    Return the sum of a 'start' value (default: 0) plus an iterable of numbers\n",
      "    \n",
      "    When the iterable is empty, return the start value.\n",
      "    This function is intended specifically for use with numeric values and may\n",
      "    reject non-numeric types.\n",
      "\n",
      "None\n"
     ]
    }
   ],
   "source": [
    "print(help(sum))"
   ]
  },
  {
   "cell_type": "code",
   "execution_count": 5,
   "id": "52e595de",
   "metadata": {},
   "outputs": [
    {
     "name": "stdout",
     "output_type": "stream",
     "text": [
      "1\n"
     ]
    }
   ],
   "source": [
    "print(sum([-4, 3, 2]))"
   ]
  },
  {
   "cell_type": "code",
   "execution_count": 29,
   "id": "8f589c01",
   "metadata": {},
   "outputs": [],
   "source": [
    "counter = 1\n",
    "def update_counter():\n",
    "    global counter\n",
    "    counter += 1\n",
    "    return counter\n",
    "\n",
    "print(update_counter())"
   ]
  },
  {
   "cell_type": "code",
   "execution_count": null,
   "id": "6dae9d76",
   "metadata": {},
   "outputs": [],
   "source": []
  },
  {
   "cell_type": "code",
   "execution_count": 30,
   "id": "c373b007",
   "metadata": {},
   "outputs": [],
   "source": [
    "counter = 0\n",
    "dot_counter = ''\n",
    "def update_counter():\n",
    "    global counter\n",
    "    global dot_counter\n",
    "    for i in range(40):\n",
    "        counter += 1\n",
    "        dot_counter += '.'\n",
    "    print(counter)\n",
    "    print(dot_counter)\n",
    "    \n",
    "update_counter()\n",
    "# n = 40\n",
    "# while n > 0:\n",
    "#     update_counter()\n",
    "#     n -= 1\n",
    "    "
   ]
  },
  {
   "cell_type": "code",
   "execution_count": null,
   "id": "1e30f0cc",
   "metadata": {},
   "outputs": [],
   "source": []
  },
  {
   "cell_type": "code",
   "execution_count": null,
   "id": "2a7c876c",
   "metadata": {},
   "outputs": [],
   "source": []
  },
  {
   "cell_type": "markdown",
   "id": "590f9f0f",
   "metadata": {},
   "source": [
    "Question 5 (from 75 Python Object Oriented programming exercises)"
   ]
  },
  {
   "cell_type": "code",
   "execution_count": 55,
   "id": "e659f90d",
   "metadata": {},
   "outputs": [
    {
     "name": "stdout",
     "output_type": "stream",
     "text": [
      "110\n",
      "..........\n"
     ]
    }
   ],
   "source": [
    "#correct the implementation of the function\n",
    "\n",
    "# def display_info(number_of_updates = 1):\n",
    "#     counter = 100\n",
    "#     dot_counter = ''\n",
    "#     def update_counter():\n",
    "#     counter += 1\n",
    "#     dot_counter += '.'\n",
    "#     [update_counter() for _ in range(number_of_updates)]\n",
    "#     print(counter)\n",
    "#     print(dot_counter)\n",
    "    \n",
    "    \n",
    "    \n",
    "def display_info(number_of_updates = 1):\n",
    "    counter = 100\n",
    "    dot_counter = ''\n",
    "    def update_counter():\n",
    "        nonlocal counter, dot_counter\n",
    "        counter += 1\n",
    "        dot_counter += '.'\n",
    "    [update_counter() for _ in range(number_of_updates)] \n",
    "    print(counter)\n",
    "    print(dot_counter)\n",
    "    \n",
    "display_info(10)"
   ]
  },
  {
   "cell_type": "code",
   "execution_count": null,
   "id": "34f04037",
   "metadata": {},
   "outputs": [],
   "source": []
  },
  {
   "cell_type": "code",
   "execution_count": null,
   "id": "c239525b",
   "metadata": {},
   "outputs": [],
   "source": []
  },
  {
   "cell_type": "markdown",
   "id": "b7257352",
   "metadata": {},
   "source": [
    "Question 6 (from 75 Python Object Oriented programming exercises)"
   ]
  },
  {
   "cell_type": "code",
   "execution_count": 80,
   "id": "35304763",
   "metadata": {},
   "outputs": [
    {
     "name": "stdout",
     "output_type": "stream",
     "text": [
      "['MAXYEAR', 'MINYEAR', 'UTC', '__all__', '__builtins__', '__cached__', '__doc__', '__file__', '__loader__', '__name__', '__package__', '__spec__', 'date', 'datetime', 'datetime_CAPI', 'sys', 'time', 'timedelta', 'timezone', 'tzinfo']\n"
     ]
    }
   ],
   "source": [
    "import datetime\n",
    "# namespace = datetime.__dict__\n",
    "# for key, value in namespace.items():\n",
    "#     print(f\"{key}\\n{value}\\n\")\n",
    "\n",
    "namespace = datetime.__dict__.keys()\n",
    "print(sorted(namespace))"
   ]
  },
  {
   "cell_type": "code",
   "execution_count": 77,
   "id": "de227be5",
   "metadata": {},
   "outputs": [
    {
     "data": {
      "text/plain": [
       "['MAXYEAR',\n",
       " 'MINYEAR',\n",
       " 'UTC',\n",
       " '__all__',\n",
       " '__builtins__',\n",
       " '__cached__',\n",
       " '__doc__',\n",
       " '__file__',\n",
       " '__loader__',\n",
       " '__name__',\n",
       " '__package__',\n",
       " '__spec__',\n",
       " 'date',\n",
       " 'datetime',\n",
       " 'datetime_CAPI',\n",
       " 'sys',\n",
       " 'time',\n",
       " 'timedelta',\n",
       " 'timezone',\n",
       " 'tzinfo']"
      ]
     },
     "execution_count": 77,
     "metadata": {},
     "output_type": "execute_result"
    }
   ],
   "source": [
    "import datetime\n",
    "dir(datetime)"
   ]
  },
  {
   "cell_type": "code",
   "execution_count": 81,
   "id": "7ce4b290",
   "metadata": {},
   "outputs": [
    {
     "name": "stdout",
     "output_type": "stream",
     "text": [
      "MAXYEAR\n",
      "MINYEAR\n",
      "UTC\n",
      "__all__\n",
      "__builtins__\n",
      "__cached__\n",
      "__doc__\n",
      "__file__\n",
      "__loader__\n",
      "__name__\n",
      "__package__\n",
      "__spec__\n",
      "date\n",
      "datetime\n",
      "datetime_CAPI\n",
      "sys\n",
      "time\n",
      "timedelta\n",
      "timezone\n",
      "tzinfo\n"
     ]
    }
   ],
   "source": [
    "import datetime\n",
    "for name in sorted(datetime.__dict__):\n",
    "    print(name)"
   ]
  },
  {
   "cell_type": "code",
   "execution_count": 82,
   "id": "0cb73b30",
   "metadata": {},
   "outputs": [
    {
     "name": "stdout",
     "output_type": "stream",
     "text": [
      "1\n",
      "2\n",
      "3\n"
     ]
    }
   ],
   "source": [
    "dict1 = {1: \"school\", 2: \"class\", 3: \"student\"}\n",
    "for name in dict1:\n",
    "    print(name)"
   ]
  },
  {
   "cell_type": "code",
   "execution_count": null,
   "id": "51a5a445",
   "metadata": {},
   "outputs": [],
   "source": []
  },
  {
   "cell_type": "code",
   "execution_count": null,
   "id": "70d75296",
   "metadata": {},
   "outputs": [],
   "source": []
  },
  {
   "cell_type": "markdown",
   "id": "196f4d68",
   "metadata": {},
   "source": [
    "Question 7 (from 75 Python Object Oriented programming exercises)"
   ]
  },
  {
   "cell_type": "code",
   "execution_count": 119,
   "id": "1b37ac53",
   "metadata": {},
   "outputs": [
    {
     "name": "stdout",
     "output_type": "stream",
     "text": [
      "__module__\n",
      "__init__\n",
      "__repr__\n",
      "get_id\n",
      "__dict__\n",
      "__weakref__\n",
      "__doc__\n"
     ]
    }
   ],
   "source": [
    "import uuid\n",
    "class Product:\n",
    "    def __init__(self, product_name, price):\n",
    "        self.product_id = self.get_id()\n",
    "        self.product_name = product_name\n",
    "        self.price = price\n",
    "    def __repr__(self):\n",
    "        return f\"Product(product_name = '{self.product_name}', price = {self.price})\"\n",
    "    @staticmethod\n",
    "    def get_id():\n",
    "        return str(uuid.uuid4().fields[-1])[:6]\n",
    "\n",
    "    \n",
    "for name in Product.__dict__:\n",
    "    print(name)"
   ]
  },
  {
   "cell_type": "code",
   "execution_count": null,
   "id": "a73e97bc",
   "metadata": {},
   "outputs": [],
   "source": []
  },
  {
   "cell_type": "code",
   "execution_count": 121,
   "id": "c539adb3",
   "metadata": {},
   "outputs": [
    {
     "name": "stdout",
     "output_type": "stream",
     "text": [
      "__dict__\n",
      "__doc__\n",
      "__init__\n",
      "__module__\n",
      "__repr__\n",
      "__weakref__\n",
      "get_id\n"
     ]
    },
    {
     "data": {
      "text/plain": [
       "['Product',\n",
       " '__builtins__',\n",
       " '__cached__',\n",
       " '__doc__',\n",
       " '__file__',\n",
       " '__loader__',\n",
       " '__name__',\n",
       " '__package__',\n",
       " '__spec__',\n",
       " 'uuid']"
      ]
     },
     "execution_count": 121,
     "metadata": {},
     "output_type": "execute_result"
    }
   ],
   "source": [
    "# getting the methods of a class\n",
    "\n",
    "import product\n",
    "for name in sorted(Product.__dict__):\n",
    "    print(name)\n",
    "    \n",
    "# for key, value in sorted(Product.__dict__.items()):\n",
    "#     print(f\"{key}: {value}\")\n",
    "    \n",
    "dir(product)"
   ]
  },
  {
   "cell_type": "code",
   "execution_count": null,
   "id": "2e66b259",
   "metadata": {},
   "outputs": [],
   "source": []
  },
  {
   "cell_type": "code",
   "execution_count": 95,
   "id": "acbb3710",
   "metadata": {},
   "outputs": [
    {
     "name": "stdout",
     "output_type": "stream",
     "text": [
      "3765\n"
     ]
    }
   ],
   "source": [
    "import uuid\n",
    "uid = uuid.uuid4()\n",
    "print(str(int(uid))[4:8])"
   ]
  },
  {
   "cell_type": "code",
   "execution_count": null,
   "id": "67507449",
   "metadata": {},
   "outputs": [],
   "source": []
  },
  {
   "cell_type": "code",
   "execution_count": null,
   "id": "4d7c6036",
   "metadata": {},
   "outputs": [],
   "source": []
  },
  {
   "cell_type": "code",
   "execution_count": null,
   "id": "5f0204f6",
   "metadata": {},
   "outputs": [],
   "source": []
  },
  {
   "cell_type": "markdown",
   "id": "e7a2f34b",
   "metadata": {},
   "source": [
    "Question 8 (from 75 Python Object Oriented programming exercises)"
   ]
  },
  {
   "cell_type": "code",
   "execution_count": 113,
   "id": "662187fc",
   "metadata": {},
   "outputs": [
    {
     "name": "stdout",
     "output_type": "stream",
     "text": [
      "product_name: Mobile Phone\n",
      "product_id: 54274\n",
      "price: 2900\n"
     ]
    }
   ],
   "source": [
    "import uuid\n",
    "\n",
    "class Product:\n",
    "    def __init__(self, product_name, product_id, price):\n",
    "        self.product_name = product_name\n",
    "        self.product_id = product_id\n",
    "        self.price = price\n",
    "    def __repr__(self):\n",
    "        return f\"Product(product_name = '{self.product_name}', price = {self.price})\"\n",
    "    \n",
    "product = Product(\"Mobile Phone\", '54274', 2900)\n",
    "\n",
    "for key, value in product.__dict__.items():\n",
    "    print(f\"{key}: {value}\")"
   ]
  },
  {
   "cell_type": "code",
   "execution_count": null,
   "id": "44257f0b",
   "metadata": {},
   "outputs": [],
   "source": []
  },
  {
   "cell_type": "code",
   "execution_count": null,
   "id": "c5745c98",
   "metadata": {},
   "outputs": [],
   "source": []
  },
  {
   "cell_type": "code",
   "execution_count": null,
   "id": "cb62d51f",
   "metadata": {},
   "outputs": [],
   "source": []
  },
  {
   "cell_type": "markdown",
   "id": "36b14eef",
   "metadata": {},
   "source": [
    "Question 9 (from 75 Python Object Oriented programming exercises)"
   ]
  },
  {
   "cell_type": "code",
   "execution_count": 145,
   "id": "202f8817",
   "metadata": {},
   "outputs": [
    {
     "name": "stdout",
     "output_type": "stream",
     "text": [
      "sport#summer\n",
      "\n",
      "time#workout#gym\n"
     ]
    }
   ],
   "source": [
    "def stick(*args):\n",
    "    result = [item for item in args if isinstance(item, str)]\n",
    "    for value in result:\n",
    "        if value == result[0]:\n",
    "            print(value, end = '')\n",
    "        else:\n",
    "            print('#' + value, end = '')\n",
    "    print()\n",
    "            \n",
    "stick('sport', 'summer')\n",
    "stick(3, 5, 7)\n",
    "stick(False, 'time', True, 'workout', [], 'gym')"
   ]
  },
  {
   "cell_type": "code",
   "execution_count": null,
   "id": "5b453062",
   "metadata": {},
   "outputs": [],
   "source": []
  },
  {
   "cell_type": "code",
   "execution_count": null,
   "id": "a7ad16c0",
   "metadata": {},
   "outputs": [],
   "source": []
  },
  {
   "cell_type": "code",
   "execution_count": null,
   "id": "a4744f59",
   "metadata": {},
   "outputs": [],
   "source": []
  },
  {
   "cell_type": "code",
   "execution_count": null,
   "id": "07a5b52b",
   "metadata": {},
   "outputs": [],
   "source": []
  },
  {
   "cell_type": "code",
   "execution_count": null,
   "id": "b42daa1b",
   "metadata": {},
   "outputs": [],
   "source": []
  },
  {
   "cell_type": "code",
   "execution_count": null,
   "id": "4df0255e",
   "metadata": {},
   "outputs": [],
   "source": []
  },
  {
   "cell_type": "code",
   "execution_count": null,
   "id": "3cb0ef9b",
   "metadata": {},
   "outputs": [],
   "source": []
  },
  {
   "cell_type": "code",
   "execution_count": null,
   "id": "40dcd7f5",
   "metadata": {},
   "outputs": [],
   "source": []
  },
  {
   "cell_type": "code",
   "execution_count": null,
   "id": "fc0f2bcb",
   "metadata": {},
   "outputs": [],
   "source": []
  },
  {
   "cell_type": "code",
   "execution_count": null,
   "id": "7572b916",
   "metadata": {},
   "outputs": [],
   "source": []
  },
  {
   "cell_type": "code",
   "execution_count": null,
   "id": "8c554764",
   "metadata": {},
   "outputs": [],
   "source": []
  },
  {
   "cell_type": "code",
   "execution_count": null,
   "id": "1177daae",
   "metadata": {},
   "outputs": [],
   "source": []
  },
  {
   "cell_type": "code",
   "execution_count": null,
   "id": "69404f82",
   "metadata": {},
   "outputs": [],
   "source": []
  },
  {
   "cell_type": "code",
   "execution_count": null,
   "id": "852cd519",
   "metadata": {},
   "outputs": [],
   "source": []
  },
  {
   "cell_type": "code",
   "execution_count": null,
   "id": "e4bb4ce1",
   "metadata": {},
   "outputs": [],
   "source": []
  },
  {
   "cell_type": "code",
   "execution_count": null,
   "id": "e3d282aa",
   "metadata": {},
   "outputs": [],
   "source": []
  },
  {
   "cell_type": "code",
   "execution_count": null,
   "id": "40ea815a",
   "metadata": {},
   "outputs": [],
   "source": []
  },
  {
   "cell_type": "code",
   "execution_count": null,
   "id": "3a98c519",
   "metadata": {},
   "outputs": [],
   "source": []
  },
  {
   "cell_type": "code",
   "execution_count": null,
   "id": "7df1b35e",
   "metadata": {},
   "outputs": [],
   "source": []
  },
  {
   "cell_type": "code",
   "execution_count": null,
   "id": "77959634",
   "metadata": {},
   "outputs": [],
   "source": []
  },
  {
   "cell_type": "code",
   "execution_count": null,
   "id": "b04dd1db",
   "metadata": {},
   "outputs": [],
   "source": []
  },
  {
   "cell_type": "code",
   "execution_count": null,
   "id": "96d985f8",
   "metadata": {},
   "outputs": [],
   "source": []
  },
  {
   "cell_type": "code",
   "execution_count": null,
   "id": "aa572d9c",
   "metadata": {},
   "outputs": [],
   "source": []
  },
  {
   "cell_type": "code",
   "execution_count": null,
   "id": "8f905ad3",
   "metadata": {},
   "outputs": [],
   "source": []
  },
  {
   "cell_type": "code",
   "execution_count": null,
   "id": "61bede1b",
   "metadata": {},
   "outputs": [],
   "source": []
  },
  {
   "cell_type": "code",
   "execution_count": null,
   "id": "49fbc11c",
   "metadata": {},
   "outputs": [],
   "source": []
  }
 ],
 "metadata": {
  "kernelspec": {
   "display_name": "Python 3 (ipykernel)",
   "language": "python",
   "name": "python3"
  },
  "language_info": {
   "codemirror_mode": {
    "name": "ipython",
    "version": 3
   },
   "file_extension": ".py",
   "mimetype": "text/x-python",
   "name": "python",
   "nbconvert_exporter": "python",
   "pygments_lexer": "ipython3",
   "version": "3.11.5"
  }
 },
 "nbformat": 4,
 "nbformat_minor": 5
}
